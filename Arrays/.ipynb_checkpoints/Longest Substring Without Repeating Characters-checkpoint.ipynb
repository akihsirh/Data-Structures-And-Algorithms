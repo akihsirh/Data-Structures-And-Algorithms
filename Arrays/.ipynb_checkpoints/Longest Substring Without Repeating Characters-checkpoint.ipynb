{
 "cells": [
  {
   "cell_type": "markdown",
   "metadata": {},
   "source": [
    "## Longest Substring Without Repeating Characters"
   ]
  },
  {
   "cell_type": "markdown",
   "metadata": {},
   "source": [
    "Given a string, find the length of the longest substring without repeating characters.\n",
    "\n",
    "- Example 1:\n",
    "    - Input: \"abcabcbb\"\n",
    "    - Output: 3 \n",
    "    - Explanation: The answer is \"abc\", with the length of 3. \n",
    "    \n",
    "- Example 2:\n",
    "    - Input: \"bbbbb\"\n",
    "    - Output: 1\n",
    "    - Explanation: The answer is \"b\", with the length of 1.\n",
    "\n",
    "- Example 3:\n",
    "    - Input: \"pwwkew\"\n",
    "    - Output: 3\n",
    "    - Explanation: The answer is \"wke\", with the length of 3. \n",
    "\n",
    "Note that the answer must be a substring, \"pwke\" is a subsequence and not a substring.\n"
   ]
  },
  {
   "cell_type": "code",
   "execution_count": 1,
   "metadata": {},
   "outputs": [],
   "source": [
    "class Solution:\n",
    "    def lengthOfLongestSubstring(self, s: str) -> int:\n",
    "        longest = 0\n",
    "        strlen = len(s)\n",
    "        count = {}\n",
    "        i,j = 0,0\n",
    "        \n",
    "        while i < strlen and j < strlen:\n",
    "            c = s[j]\n",
    "            if c in count.keys():\n",
    "                i = max(count.get(c,0) + 1, i)\n",
    "\n",
    "            count[c] = j\n",
    "            longest = max(j - i + 1, longest)\n",
    "            j = j + 1\n",
    "\n",
    "        return longest"
   ]
  },
  {
   "cell_type": "code",
   "execution_count": 2,
   "metadata": {},
   "outputs": [
    {
     "data": {
      "text/plain": [
       "3"
      ]
     },
     "execution_count": 2,
     "metadata": {},
     "output_type": "execute_result"
    }
   ],
   "source": [
    "solution = Solution()\n",
    "\n",
    "solution.lengthOfLongestSubstring(\"abcabcabb\")"
   ]
  },
  {
   "cell_type": "code",
   "execution_count": 3,
   "metadata": {},
   "outputs": [
    {
     "data": {
      "text/plain": [
       "2"
      ]
     },
     "execution_count": 3,
     "metadata": {},
     "output_type": "execute_result"
    }
   ],
   "source": [
    "solution.lengthOfLongestSubstring(\"abba\")"
   ]
  },
  {
   "cell_type": "code",
   "execution_count": 4,
   "metadata": {},
   "outputs": [
    {
     "data": {
      "text/plain": [
       "4"
      ]
     },
     "execution_count": 4,
     "metadata": {},
     "output_type": "execute_result"
    }
   ],
   "source": [
    "solution.lengthOfLongestSubstring(\"pvdf\")"
   ]
  },
  {
   "cell_type": "code",
   "execution_count": 5,
   "metadata": {},
   "outputs": [
    {
     "data": {
      "text/plain": [
       "6"
      ]
     },
     "execution_count": 5,
     "metadata": {},
     "output_type": "execute_result"
    }
   ],
   "source": [
    "solution.lengthOfLongestSubstring(\"absfgtthyuk\")"
   ]
  },
  {
   "cell_type": "code",
   "execution_count": null,
   "metadata": {},
   "outputs": [],
   "source": []
  }
 ],
 "metadata": {
  "kernelspec": {
   "display_name": "Python 3",
   "language": "python",
   "name": "python3"
  },
  "language_info": {
   "codemirror_mode": {
    "name": "ipython",
    "version": 3
   },
   "file_extension": ".py",
   "mimetype": "text/x-python",
   "name": "python",
   "nbconvert_exporter": "python",
   "pygments_lexer": "ipython3",
   "version": "3.7.4"
  }
 },
 "nbformat": 4,
 "nbformat_minor": 2
}
